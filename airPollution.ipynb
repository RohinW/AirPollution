{
 "cells": [
  {
   "cell_type": "code",
   "execution_count": 3,
   "id": "bea1016d-c844-4e0a-ad40-295cf2f8fbeb",
   "metadata": {},
   "outputs": [],
   "source": [
    "import pandas as pd"
   ]
  },
  {
   "cell_type": "code",
   "execution_count": null,
   "id": "75686a9c-f5ae-44f7-97c9-a917b796e6bd",
   "metadata": {},
   "outputs": [],
   "source": [
    "\n",
    "<ul>\n",
    "  <li>Neo4j ist eine Graphdatenbank.</li>\n",
    "  <li>speichert Knoten und Beziehungen anstelle von Tabellen oder Dokumenten.</li>\n",
    "  <li>Ideen auf einem Whiteboard skizzieren</li>\n",
    "  <li>Big-Data- und Analyseanwendungen</li>\n",
    "  <li>Facebook-Freundschaftsbeziehung sowie die Like-Beziehung</li>\n",
    "</ul> "
   ]
  },
  {
   "cell_type": "code",
   "execution_count": 4,
   "id": "ac470e4a-d5a0-42f4-9525-5699e123e72d",
   "metadata": {},
   "outputs": [
    {
     "name": "stdout",
     "output_type": "stream",
     "text": [
      "Hello World\n"
     ]
    }
   ],
   "source": [
    "print(\"Hello World\")"
   ]
  },
  {
   "cell_type": "markdown",
   "id": "9cfc396c-436a-406d-ba86-b1d74a244ba1",
   "metadata": {},
   "source": [
    "<div style=\"font-size: 6rem;\n",
    "\t    text-align: center;\n",
    "      height:60vh;\n",
    "      line-height: 60vh;\n",
    "\t    color: #fcedd8;\n",
    "\t    background: #d52e3f;\n",
    "\t   \tfont-family:  cursive;\n",
    "\t    font-weight: 50;\n",
    "      text-shadow: 5px 5px 0px #eb452b, \n",
    "                  10px 10px 0px #efa032, \n",
    "                  15px 15px 0px #46b59b, \n",
    "                  20px 20px 0px #017e7f, \n",
    "                  25px 25px 0px #052939, \n",
    "                  30px 30px 0px #c11a2b, \n",
    "                  35px 35px 0px #c11a2b, \n",
    "                  40px 40px 0px #c11a2b, \n",
    "                  45px 45px 0px #c11a2b;\">Graphdatenbank</div>\n"
   ]
  }
 ],
 "metadata": {
  "kernelspec": {
   "display_name": "Python 3 (ipykernel)",
   "language": "python",
   "name": "python3"
  },
  "language_info": {
   "codemirror_mode": {
    "name": "ipython",
    "version": 3
   },
   "file_extension": ".py",
   "mimetype": "text/x-python",
   "name": "python",
   "nbconvert_exporter": "python",
   "pygments_lexer": "ipython3",
   "version": "3.9.12"
  }
 },
 "nbformat": 4,
 "nbformat_minor": 5
}
